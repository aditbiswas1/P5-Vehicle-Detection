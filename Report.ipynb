{
 "cells": [
  {
   "cell_type": "markdown",
   "metadata": {},
   "source": [
    "# P5 - Vehicle Detection and Tracking"
   ]
  },
  {
   "cell_type": "markdown",
   "metadata": {},
   "source": [
    "In this project I created a vehicle tracking pipeline using supervised learning algorithms on image related features from a vehicle dataset."
   ]
  },
  {
   "cell_type": "code",
   "execution_count": 1,
   "metadata": {
    "collapsed": true
   },
   "outputs": [],
   "source": [
    "import cv2\n",
    "import numpy as np\n",
    "from matplotlib import pyplot as plt\n",
    "import glob\n",
    "from utils.imread_rgb import imread_rgb\n",
    "from sklearn.preprocessing import StandardScaler\n",
    "from sklearn.model_selection import train_test_split"
   ]
  },
  {
   "cell_type": "markdown",
   "metadata": {},
   "source": [
    "## 1. Classification\n",
    "\n",
    "The first step in solving the problem of identifying and tracking vehicles is to implement a binary classification algorithm which is capable of distinguishing between vehicles and non-vehicles. To implement this algorithm, i extracted gradient, color and spatial features from images and evaluated various standard classification algorithms from the sklearn toolkit."
   ]
  },
  {
   "cell_type": "code",
   "execution_count": 2,
   "metadata": {
    "collapsed": true
   },
   "outputs": [],
   "source": [
    "vehicle_files = glob.glob('vehicles/*/*.png')\n",
    "non_vehicle_files = glob.glob('non-vehicles/*/*.png')\n",
    "vehicle_images = [imread_rgb(im) for im in vehicle_files]\n",
    "nonvehicle_images = [imread_rgb(im) for im in non_vehicle_files]"
   ]
  },
  {
   "cell_type": "code",
   "execution_count": 3,
   "metadata": {
    "collapsed": true
   },
   "outputs": [],
   "source": [
    "images = np.vstack((vehicle_images, nonvehicle_images))\n",
    "del vehicle_images\n",
    "del nonvehicle_images"
   ]
  },
  {
   "cell_type": "code",
   "execution_count": 4,
   "metadata": {
    "collapsed": true
   },
   "outputs": [],
   "source": [
    "labels = np.hstack((np.ones(len(vehicle_files)), np.zeros(len(non_vehicle_files))))"
   ]
  },
  {
   "cell_type": "code",
   "execution_count": 5,
   "metadata": {
    "collapsed": true
   },
   "outputs": [],
   "source": [
    "X_train, X_test, y_train, y_test = train_test_split(images, labels, stratify=labels)"
   ]
  },
  {
   "cell_type": "markdown",
   "metadata": {},
   "source": [
    "### 1.1. Feature Selection\n",
    "There are multiple techniques to extract features from a given image. I decided to evaluate a handful of techniques by changing color space and various parameters of the feature extraction algorithms and comparing how well they train a linear SVM.\n",
    "To compare the quality of the features I evaluated the f1_score metric which is a weighted average or the precision, recall scores of the classification algorithm.\n",
    "\n",
    "#### 1.1.1 HOG features\n",
    "The Histogram of Gradient (HOG) is a feature descriptor found in traditional computer vision techniques. The technique counts occurences of gradient orientations in a localized portion of a given image, the main idea of the algorithm is that shapes of objects in an image can be described by these gradient orientations are thus considered useful. I used the ```skimage.feature.hog``` function to extract hog features from the images and determine which parameters seem to work best.\n"
   ]
  },
  {
   "cell_type": "code",
   "execution_count": 6,
   "metadata": {
    "collapsed": true
   },
   "outputs": [],
   "source": [
    "from sklearn.metrics import f1_score\n",
    "from sklearn.svm import LinearSVC\n",
    "from feature_extractors.hog_extractor import extract_hog_features"
   ]
  },
  {
   "cell_type": "code",
   "execution_count": 11,
   "metadata": {
    "collapsed": false,
    "deletable": true,
    "editable": true
   },
   "outputs": [
    {
     "name": "stdout",
     "output_type": "stream",
     "text": [
      "color_space \t orient \t pix_per_cell \t channel \t f1_score\n",
      "RGB \t9 \t8 \t2 \tALL : \t0.9741596158243769\n",
      "HSV \t9 \t8 \t2 \tALL : \t0.9829196082896835\n",
      "LUV \t9 \t8 \t2 \tALL : \t0.9824641311774084\n",
      "HLS \t9 \t8 \t2 \tALL : \t0.9842717118759973\n",
      "YUV \t9 \t8 \t2 \tALL : \t0.9858705560619873\n",
      "YCrCb \t9 \t8 \t2 \tALL : \t0.9851632047477744\n"
     ]
    }
   ],
   "source": [
    "color_spaces = ['RGB','HSV', 'LUV', 'HLS', 'YUV', 'YCrCb']\n",
    "orient = 9\n",
    "pix_per_cell = 8\n",
    "cell_per_block = 2\n",
    "channel = 'ALL'\n",
    "print('color_space \\t orient \\t pix_per_cell \\t channel \\t f1_score')\n",
    "for color_space in color_spaces:\n",
    "    X_train_features = []\n",
    "    X_test_features = []\n",
    "    for im in X_train:\n",
    "        X_train_features.append(extract_hog_features(im, cspace=color_space, orient=orient, \n",
    "        pix_per_cell=pix_per_cell, cell_per_block=cell_per_block, \n",
    "        hog_channel=channel))\n",
    "    for im in X_test:\n",
    "        X_test_features.append(extract_hog_features(im, cspace=color_space, orient=orient, \n",
    "        pix_per_cell=pix_per_cell, cell_per_block=cell_per_block, \n",
    "        hog_channel=channel))\n",
    "\n",
    "    X_train_features = np.asarray(X_train_features).astype(np.float64)\n",
    "    X_test_feature = np.asarray(X_test_features).astype(np.float64)\n",
    "    clf = LinearSVC()\n",
    "    clf.fit(X_train_features, y_train)\n",
    "    y_preds = clf.predict(X_test_features)\n",
    "    f1 = f1_score(y_test, y_preds)\n",
    "    print('{} \\t{} \\t{} \\t{} \\t{} : \\t{}'.format(color_space, orient,  pix_per_cell, cell_per_block, channel, f1))\n",
    "                    "
   ]
  },
  {
   "cell_type": "code",
   "execution_count": 12,
   "metadata": {
    "collapsed": false
   },
   "outputs": [
    {
     "name": "stdout",
     "output_type": "stream",
     "text": [
      "color_space \t orient \t pix_per_cell \t channel \t f1_score\n",
      "RGB \t5 \t8 \t2 \tALL : \t0.9611872146118721\n",
      "RGB \t7 \t8 \t2 \tALL : \t0.9699747879899153\n",
      "RGB \t9 \t8 \t2 \tALL : \t0.9741596158243769\n",
      "RGB \t13 \t8 \t2 \tALL : \t0.9727376861397481\n",
      "RGB \t16 \t8 \t2 \tALL : \t0.9715726730857405\n"
     ]
    }
   ],
   "source": [
    "color_space = 'RGB'\n",
    "orients = [5,7,9,13,16]\n",
    "pix_per_cell = 8\n",
    "cell_per_block = 2\n",
    "channel = 'ALL'\n",
    "print('color_space \\t orient \\t pix_per_cell \\t channel \\t f1_score')\n",
    "for orient in orients:\n",
    "    X_train_features = []\n",
    "    X_test_features = []\n",
    "    for im in X_train:\n",
    "        X_train_features.append(extract_hog_features(im, cspace=color_space, orient=orient, \n",
    "        pix_per_cell=pix_per_cell, cell_per_block=cell_per_block, \n",
    "        hog_channel=channel))\n",
    "    for im in X_test:\n",
    "        X_test_features.append(extract_hog_features(im, cspace=color_space, orient=orient, \n",
    "        pix_per_cell=pix_per_cell, cell_per_block=cell_per_block, \n",
    "        hog_channel=channel))\n",
    "\n",
    "    X_train_features = np.asarray(X_train_features).astype(np.float64)\n",
    "    X_test_feature = np.asarray(X_test_features).astype(np.float64)\n",
    "    clf = LinearSVC()\n",
    "    clf.fit(X_train_features, y_train)\n",
    "    y_preds = clf.predict(X_test_features)\n",
    "    f1 = f1_score(y_test, y_preds)\n",
    "    print('{} \\t{} \\t{} \\t{} \\t{} : \\t{}'.format(color_space, orient,  pix_per_cell, cell_per_block, channel, f1))\n",
    "                    "
   ]
  },
  {
   "cell_type": "markdown",
   "metadata": {},
   "source": [
    "From the exploration above I find that the hog features in the YUV space should give a better performance.\n",
    "I also find that the optimal number of orients is 9 in the RGB space, so i train a svm on YUV space with 9 orients to evaluate the results"
   ]
  },
  {
   "cell_type": "code",
   "execution_count": 16,
   "metadata": {
    "collapsed": false
   },
   "outputs": [
    {
     "name": "stdout",
     "output_type": "stream",
     "text": [
      "0.985870556062\n"
     ]
    }
   ],
   "source": [
    "color_space = 'YUV'\n",
    "orient = 9\n",
    "pix_per_cell = 8\n",
    "cell_per_block = 2\n",
    "channel = 'ALL'\n",
    "X_train_features = []\n",
    "X_test_features = []\n",
    "for im in X_train:\n",
    "    X_train_features.append(extract_hog_features(im, cspace=color_space, orient=orient, \n",
    "    pix_per_cell=pix_per_cell, cell_per_block=cell_per_block, \n",
    "    hog_channel=channel))\n",
    "for im in X_test:\n",
    "    X_test_features.append(extract_hog_features(im, cspace=color_space, orient=orient, \n",
    "    pix_per_cell=pix_per_cell, cell_per_block=cell_per_block, \n",
    "    hog_channel=channel))\n",
    "\n",
    "X_train_features = np.asarray(X_train_features).astype(np.float64)\n",
    "X_test_feature = np.asarray(X_test_features).astype(np.float64)\n",
    "clf = LinearSVC()\n",
    "clf.fit(X_train_features, y_train)\n",
    "y_preds = clf.predict(X_test_features)\n",
    "f1 = f1_score(y_test, y_preds)\n",
    "print(f1)"
   ]
  },
  {
   "cell_type": "markdown",
   "metadata": {},
   "source": [
    "#### 1.1.2 Color Features\n",
    "I next explore features related to color, specifically color distribution of the images in various color spaces  and spatial binning of colors"
   ]
  },
  {
   "cell_type": "code",
   "execution_count": 8,
   "metadata": {
    "collapsed": false
   },
   "outputs": [],
   "source": [
    "from feature_extractors.bin_spatial import extract_color_features"
   ]
  },
  {
   "cell_type": "code",
   "execution_count": 9,
   "metadata": {
    "collapsed": false
   },
   "outputs": [
    {
     "name": "stdout",
     "output_type": "stream",
     "text": [
      "color_space \t spatial_size \t hist_bins \t hist_range \t f1_score\n",
      "RGB \t(32, 32) \t32 \t(0, 256) : \t0.9492070788324523\n",
      "HSV \t(32, 32) \t32 \t(0, 256) : \t0.9482163406214039\n",
      "LUV \t(32, 32) \t32 \t(0, 256) : \t0.9394650398873768\n",
      "HLS \t(32, 32) \t32 \t(0, 256) : \t0.940797051370652\n",
      "YUV \t(32, 32) \t32 \t(0, 256) : \t0.950338074143157\n",
      "YCrCb \t(32, 32) \t32 \t(0, 256) : \t0.947294776119403\n"
     ]
    }
   ],
   "source": [
    "color_spaces = ['RGB','HSV', 'LUV', 'HLS', 'YUV', 'YCrCb']\n",
    "spatial_size = (32,32)\n",
    "hist_bins = 32\n",
    "hist_range = (0, 256)\n",
    "print('color_space \\t spatial_size \\t hist_bins \\t hist_range \\t f1_score')\n",
    "for color_space in color_spaces:\n",
    "    X_train_features = []\n",
    "    X_test_features = []\n",
    "    for im in X_train:\n",
    "        X_train_features.append(extract_color_features(im, cspace=color_space, spatial_size=spatial_size, \n",
    "        hist_bins=hist_bins, hist_range=hist_range))\n",
    "    for im in X_test:\n",
    "        X_test_features.append(extract_color_features(im, cspace=color_space, spatial_size=spatial_size, \n",
    "        hist_bins=hist_bins, hist_range=hist_range))\n",
    "\n",
    "    X_train_features = np.asarray(X_train_features).astype(np.float64)\n",
    "    X_test_feature = np.asarray(X_test_features).astype(np.float64)\n",
    "    X_scalar = StandardScaler().fit(np.vstack([X_train_features, X_test_features]))\n",
    "    X_train_scaled = X_scalar.transform(X_train_features)\n",
    "    X_test_scaled = X_scalar.transform(X_test_features)\n",
    "    clf = LinearSVC()\n",
    "    clf.fit(X_train_scaled, y_train)\n",
    "    y_preds = clf.predict(X_test_scaled)\n",
    "    f1 = f1_score(y_test, y_preds)\n",
    "    print('{} \\t{} \\t{} \\t{} : \\t{}'.format(color_space, spatial_size,  hist_bins, hist_range, f1))"
   ]
  },
  {
   "cell_type": "markdown",
   "metadata": {},
   "source": [
    "I find that the YUV colorspace seems to be training the SVM the best, thus i decide to use the YUV color features as well as the YUV colorspace HOG descriptors to train my classification model."
   ]
  },
  {
   "cell_type": "code",
   "execution_count": 13,
   "metadata": {
    "collapsed": false
   },
   "outputs": [
    {
     "name": "stdout",
     "output_type": "stream",
     "text": [
      "0.991825613079\n"
     ]
    }
   ],
   "source": [
    "color_space = 'YUV'\n",
    "spatial_size = (32,32)\n",
    "hist_bins = 32\n",
    "hist_range = (0, 256)\n",
    "orient = 9\n",
    "pix_per_cell = 8\n",
    "cell_per_block = 2\n",
    "channel = 'ALL'\n",
    "X_train_features = []\n",
    "X_test_features = []\n",
    "for im in X_train:\n",
    "    hog_features = extract_hog_features(im, cspace=color_space, orient=orient, \n",
    "    pix_per_cell=pix_per_cell, cell_per_block=cell_per_block, \n",
    "    hog_channel=channel)\n",
    "    \n",
    "    color_features = extract_color_features(im, cspace=color_space, spatial_size=spatial_size, \n",
    "        hist_bins=hist_bins, hist_range=hist_range)\n",
    "    features = np.hstack(\n",
    "        (np.asarray(hog_features).astype(np.float64), \n",
    "         np.asarray(color_features).astype(np.float64))\n",
    "    )\n",
    "    X_train_features.append(features)\n",
    "for im in X_test:\n",
    "    hog_features = extract_hog_features(im, cspace=color_space, orient=orient, \n",
    "    pix_per_cell=pix_per_cell, cell_per_block=cell_per_block, \n",
    "    hog_channel=channel)\n",
    "    \n",
    "    color_features = extract_color_features(im, cspace=color_space, spatial_size=spatial_size, \n",
    "        hist_bins=hist_bins, hist_range=hist_range)\n",
    "    features = np.hstack(\n",
    "        (np.asarray(hog_features).astype(np.float64), \n",
    "         np.asarray(color_features).astype(np.float64))\n",
    "    )\n",
    "    X_test_features.append(features)\n",
    "\n",
    "X_train_features = np.asarray(X_train_features).astype(np.float64)\n",
    "X_test_feature = np.asarray(X_test_features).astype(np.float64)\n",
    "X_scalar = StandardScaler().fit(np.vstack([X_train_features, X_test_features]))\n",
    "X_train_scaled = X_scalar.transform(X_train_features)\n",
    "X_test_scaled = X_scalar.transform(X_test_features)\n",
    "clf = LinearSVC()\n",
    "clf.fit(X_train_scaled, y_train)\n",
    "y_preds = clf.predict(X_test_scaled)\n",
    "f1 = f1_score(y_test, y_preds)\n",
    "print(f1)"
   ]
  },
  {
   "cell_type": "markdown",
   "metadata": {},
   "source": [
    "#### 1.1.3 Feature Scaling\n",
    "When combining the HOG features and color features we find that their scales do not match, this would result int the classifier getting biased results to a specific type of feature. To remove this i scaled the feature vectors using the standard scalar in sklearn"
   ]
  },
  {
   "cell_type": "code",
   "execution_count": 23,
   "metadata": {
    "collapsed": false
   },
   "outputs": [
    {
     "data": {
      "text/plain": [
       "<matplotlib.text.Text at 0x12317f588>"
      ]
     },
     "execution_count": 23,
     "metadata": {},
     "output_type": "execute_result"
    },
    {
     "data": {
      "image/png": "[encoded data removed]",
      "text/plain": [
       "<matplotlib.figure.Figure at 0x10e2764e0>"
      ]
     },
     "metadata": {},
     "output_type": "display_data"
    }
   ],
   "source": [
    "%matplotlib inline\n",
    "plt.plot(X_train_features[0])\n",
    "plt.title('before scaling')"
   ]
  },
  {
   "cell_type": "code",
   "execution_count": 24,
   "metadata": {
    "collapsed": false
   },
   "outputs": [
    {
     "data": {
      "text/plain": [
       "<matplotlib.text.Text at 0x1234d8ba8>"
      ]
     },
     "execution_count": 24,
     "metadata": {},
     "output_type": "execute_result"
    },
    {
     "data": {
      "image/png": "[encoded data removed]",
      "text/plain": [
       "<matplotlib.figure.Figure at 0x15e1da1d0>"
      ]
     },
     "metadata": {},
     "output_type": "display_data"
    }
   ],
   "source": [
    "%matplotlib inline\n",
    "plt.plot(X_train_scaled[0])\n",
    "plt.title('before scaling')"
   ]
  },
  {
   "cell_type": "markdown",
   "metadata": {},
   "source": [
    "### 1.2. Selecting a Classifier\n",
    "Having determined features which can be used to train classification models. I decided to compare different classification models to determine which model to use for the final classifier.\n",
    "the chosen models for comparison are :\n",
    "\n",
    "1. LinearSVC\n",
    "2. RandomForest\n",
    "3. Bagging Ensemble of SVMs "
   ]
  },
  {
   "cell_type": "code",
   "execution_count": 38,
   "metadata": {
    "collapsed": true
   },
   "outputs": [],
   "source": [
    "from sklearn.svm import LinearSVC\n",
    "from sklearn.ensemble import RandomForestClassifier\n",
    "from sklearn.naive_bayes import GaussianNB"
   ]
  },
  {
   "cell_type": "code",
   "execution_count": 39,
   "metadata": {
    "collapsed": false
   },
   "outputs": [
    {
     "name": "stdout",
     "output_type": "stream",
     "text": [
      "clfA f1: 0.9918256130790191\n",
      "clfB f1: 0.9859931113662457\n",
      "clfC f1: 0.9649570666047806\n"
     ]
    }
   ],
   "source": [
    "clfA = LinearSVC()\n",
    "clfB = RandomForestClassifier()\n",
    "clfC = GaussianNB()\n",
    "\n",
    "clfA.fit(X_train_scaled, y_train)\n",
    "y_preds = clfA.predict(X_test_scaled)\n",
    "f1 = f1_score(y_test, y_preds)\n",
    "print('clfA f1: {}'.format(f1))\n",
    "\n",
    "\n",
    "clfB.fit(X_train_scaled, y_train)\n",
    "y_preds = clfB.predict(X_test_scaled)\n",
    "f1 = f1_score(y_test, y_preds)\n",
    "print('clfB f1: {}'.format(f1))\n",
    "\n",
    "\n",
    "clfC.fit(X_train_scaled, y_train)\n",
    "y_preds = clfC.predict(X_test_scaled)\n",
    "f1 = f1_score(y_test, y_preds)\n",
    "print('clfC f1: {}'.format(f1))"
   ]
  },
  {
   "cell_type": "markdown",
   "metadata": {},
   "source": [
    "After comparing a handful of classifiers , I found that the LinearSVC is given the best f1 score, thus I continued to use it as my classification algorithm."
   ]
  },
  {
   "cell_type": "markdown",
   "metadata": {},
   "source": [
    "## 1.3 Classifier Finetuning  "
   ]
  },
  {
   "cell_type": "markdown",
   "metadata": {},
   "source": [
    "After determining the useful features and deciding on a specific classifier to use. I decided to use grid search to determine optimal parameters for the Linear SVM classifier for this specific problem."
   ]
  },
  {
   "cell_type": "code",
   "execution_count": 44,
   "metadata": {
    "collapsed": false
   },
   "outputs": [
    {
     "name": "stdout",
     "output_type": "stream",
     "text": [
      "0.991825613079\n"
     ]
    }
   ],
   "source": [
    "from sklearn.model_selection import GridSearchCV\n",
    "from sklearn.metrics import make_scorer, f1_score\n",
    "\n",
    "parameters = {\n",
    "    'C': [0.1, 1, 10, 100]\n",
    "}\n",
    "\n",
    "f1_scorer = make_scorer(f1_score)\n",
    "\n",
    "grid_obj = GridSearchCV(LinearSVC(), \n",
    "                        param_grid=parameters,\n",
    "                        scoring=f1_scorer)\n",
    "\n",
    "grid_obj.fit(X_train_scaled, y_train)\n",
    "\n",
    "clf = grid_obj.best_estimator_\n",
    "y_preds = clf.predict(X_test_scaled)\n",
    "f1 = f1_score(y_test, y_preds)\n",
    "print(f1)"
   ]
  },
  {
   "cell_type": "markdown",
   "metadata": {},
   "source": [
    "after varying the C parameter for the linear SVC i found that it doesnt really affect the f1_score by much. I decided to use the Linear SVC as the final classifier for this project."
   ]
  },
  {
   "cell_type": "code",
   "execution_count": 46,
   "metadata": {
    "collapsed": false
   },
   "outputs": [
    {
     "data": {
      "text/plain": [
       "['feature_params.pkl']"
      ]
     },
     "execution_count": 46,
     "metadata": {},
     "output_type": "execute_result"
    }
   ],
   "source": [
    "from sklearn.externals import joblib\n",
    "joblib.dump(clf, 'final_clf.pkl') \n",
    "joblib.dump(X_scalar, 'feature_scaler.pkl')\n",
    "feature_params = {\n",
    "    color_space : 'YUV',\n",
    "    spatial_size : (32,32),\n",
    "    hist_bins : 32,\n",
    "    hist_range : (0, 256),\n",
    "    orient : 9,\n",
    "    pix_per_cell : 8,\n",
    "    cell_per_block : 2,\n",
    "    channel : 'ALL'\n",
    "}\n",
    "joblib.dump(feature_params, 'feature_params.pkl')"
   ]
  },
  {
   "cell_type": "markdown",
   "metadata": {},
   "source": [
    "## 2. Sliding Window and Object Localization "
   ]
  },
  {
   "cell_type": "code",
   "execution_count": null,
   "metadata": {
    "collapsed": true
   },
   "outputs": [],
   "source": []
  }
 ],
 "metadata": {
  "kernelspec": {
   "display_name": "Python 3",
   "language": "python",
   "name": "python3"
  },
  "language_info": {
   "codemirror_mode": {
    "name": "ipython",
    "version": 3
   },
   "file_extension": ".py",
   "mimetype": "text/x-python",
   "name": "python",
   "nbconvert_exporter": "python",
   "pygments_lexer": "ipython3",
   "version": "3.5.2"
  },
  "widgets": {
   "state": {},
   "version": "1.1.2"
  }
 },
 "nbformat": 4,
 "nbformat_minor": 2
}
